{
  "nbformat": 4,
  "nbformat_minor": 0,
  "metadata": {
    "colab": {
      "provenance": []
    },
    "kernelspec": {
      "name": "python3",
      "display_name": "Python 3"
    },
    "language_info": {
      "name": "python"
    }
  },
  "cells": [
    {
      "cell_type": "markdown",
      "source": [
        "Instalando dependências do Spark"
      ],
      "metadata": {
        "id": "xFjkmUhcqWxe"
      }
    },
    {
      "cell_type": "code",
      "source": [
        "!apt-get update -qq\n",
        "!apt-get install openjdk-8-jdk-headless -qq > /dev/null\n",
        "!wget -q https://archive.apache.org/dist/spark/spark-3.1.2/spark-3.1.2-bin-hadoop2.7.tgz\n",
        "!tar xf spark-3.1.2-bin-hadoop2.7.tgz\n",
        "!pip install -q findspark\n",
        "     "
      ],
      "metadata": {
        "id": "1LIKJy5qqaLm"
      },
      "execution_count": null,
      "outputs": []
    },
    {
      "cell_type": "markdown",
      "source": [
        "Importando OS"
      ],
      "metadata": {
        "id": "Xr0Csicuqvau"
      }
    },
    {
      "cell_type": "code",
      "source": [
        "import os\n",
        "os.environ[\"JAVA_HOME\"] = \"/usr/lib/jvm/java-8-openjdk-amd64\"\n",
        "os.environ[\"SPARK_HOME\"] = \"/content/spark-3.1.2-bin-hadoop2.7\"\n",
        "     "
      ],
      "metadata": {
        "id": "LDQD0xtAqxSr"
      },
      "execution_count": null,
      "outputs": []
    },
    {
      "cell_type": "markdown",
      "source": [
        "\n",
        "Importando o Spark Session"
      ],
      "metadata": {
        "id": "Cq3AYR1Jq4Ip"
      }
    },
    {
      "cell_type": "code",
      "source": [
        "import findspark\n",
        "findspark.init()"
      ],
      "metadata": {
        "id": "3UlBh_boq5pE"
      },
      "execution_count": null,
      "outputs": []
    },
    {
      "cell_type": "code",
      "source": [
        "from pyspark.sql import SparkSession\n",
        "\n",
        "spark = SparkSession.builder \\\n",
        "    .master('local[*]') \\\n",
        "    .appName(\"Iniciando com Spark\") \\\n",
        "    .getOrCreate()"
      ],
      "metadata": {
        "id": "KDu0uz7Hq_9L"
      },
      "execution_count": null,
      "outputs": []
    },
    {
      "cell_type": "code",
      "source": [
        "spark"
      ],
      "metadata": {
        "colab": {
          "base_uri": "https://localhost:8080/",
          "height": 219
        },
        "id": "KKuRq8KPrFHa",
        "outputId": "ffd305ab-0940-4aca-e564-695b3ad7a634"
      },
      "execution_count": null,
      "outputs": [
        {
          "output_type": "execute_result",
          "data": {
            "text/plain": [
              "<pyspark.sql.session.SparkSession at 0x7f66bef01eb0>"
            ],
            "text/html": [
              "\n",
              "            <div>\n",
              "                <p><b>SparkSession - in-memory</b></p>\n",
              "                \n",
              "        <div>\n",
              "            <p><b>SparkContext</b></p>\n",
              "\n",
              "            <p><a href=\"http://a71e48cfd69c:4040\">Spark UI</a></p>\n",
              "\n",
              "            <dl>\n",
              "              <dt>Version</dt>\n",
              "                <dd><code>v3.1.2</code></dd>\n",
              "              <dt>Master</dt>\n",
              "                <dd><code>local[*]</code></dd>\n",
              "              <dt>AppName</dt>\n",
              "                <dd><code>Iniciando com Spark</code></dd>\n",
              "            </dl>\n",
              "        </div>\n",
              "        \n",
              "            </div>\n",
              "        "
            ]
          },
          "metadata": {},
          "execution_count": 11
        }
      ]
    },
    {
      "cell_type": "code",
      "source": [
        "from google.colab import drive\n",
        "drive.mount('/content/drive')"
      ],
      "metadata": {
        "colab": {
          "base_uri": "https://localhost:8080/"
        },
        "id": "PHsfKbp_sovi",
        "outputId": "1b18a63b-919d-4633-85bf-d0ad4b689b5a"
      },
      "execution_count": 13,
      "outputs": [
        {
          "output_type": "stream",
          "name": "stdout",
          "text": [
            "Drive already mounted at /content/drive; to attempt to forcibly remount, call drive.mount(\"/content/drive\", force_remount=True).\n"
          ]
        }
      ]
    },
    {
      "cell_type": "markdown",
      "source": [
        "# Carregando dados no dataframe"
      ],
      "metadata": {
        "id": "OOvnNOuSrOcH"
      }
    },
    {
      "cell_type": "code",
      "source": [
        "data = spark.read.parquet('/content/drive/MyDrive/dados/anuncio_tratado_parquet/part-00000-b202265d-8cd3-46a3-8036-abcc95378363-c000.snappy.parquet')\n"
      ],
      "metadata": {
        "id": "85hWl45_rMhy"
      },
      "execution_count": 15,
      "outputs": []
    },
    {
      "cell_type": "code",
      "source": [
        "data.show(10)"
      ],
      "metadata": {
        "colab": {
          "base_uri": "https://localhost:8080/"
        },
        "id": "TPwyJjANs-4W",
        "outputId": "3268e817-b507-4265-9743-def9488ad222"
      },
      "execution_count": 16,
      "outputs": [
        {
          "output_type": "stream",
          "name": "stdout",
          "text": [
            "+-----+----------+---------+---------+--------------------+--------------------+--------------------+-------+------+------------+------------+-----------+----+--------------------+--------------+------------+----------+----+-----+-----+\n",
            "|andar|area_total|area_util|banheiros|     caracteristicas|            endereco|                  id|quartos|suites|tipo_anuncio|tipo_unidade|   tipo_uso|vaga|             valores|        bairro|        zona|condominio|iptu| tipo|valor|\n",
            "+-----+----------+---------+---------+--------------------+--------------------+--------------------+-------+------+------------+------------+-----------+----+--------------------+--------------+------------+----------+----+-----+-----+\n",
            "|    0|      null|       16|        0|                  []|{Centro, 20061003...|47d553e0-79f2-4a4...|      0|     0|       Usado|      Outros|  Comercial|   1|[{260, 107, Venda...|        Centro|Zona Central|       260| 107|Venda|10000|\n",
            "|    0|      null|       14|        0|                  []|{Centro, 20051040...|b6ffbae1-17f6-487...|      0|  null|       Usado|      Outros|  Comercial|   0|[{260, 107, Venda...|        Centro|Zona Central|       260| 107|Venda|10000|\n",
            "|    0|      1026|     1026|        0|                  []|{Maria da Graça, ...|1fb030a5-9e3e-4a1...|      0|  null|       Usado|      Outros|  Comercial|   0|[{null, 1613, Ven...|Maria da Graça|  Zona Norte|      null|1613|Venda|10000|\n",
            "|    0|       120|      120|        0|[Portão eletrônic...|{Campo Grande, 23...|ac6cb348-69d6-45a...|      0|  null|       Usado|      Outros|Residencial|null|[{80, null, Venda...|  Campo Grande|  Zona Oeste|        80|null|Venda|10000|\n",
            "|    0|         3|        3|        0|                  []|{São Cristóvão, 2...|e032b908-ef42-4d4...|      0|  null|       Usado|      Outros|Residencial|null|[{0, 0, Venda, 50...| São Cristóvão|  Zona Norte|         0|   0|Venda| 5000|\n",
            "|    0|        20|       15|        1|                  []|{Centro, 20231047...|df9cf0b8-b972-433...|      0|  null|       Usado|      Outros|  Comercial|   1|[{223, 87, Venda,...|        Centro|Zona Central|       223|  87|Venda|18500|\n",
            "|    3|        43|       43|        1|[Academia, Churra...|{Paciência, 23585...|d2e3a3aa-09b5-45a...|      2|  null|       Usado| Apartamento|Residencial|   1|[{245, null, Vend...|     Paciência|  Zona Oeste|       245|null|Venda|15000|\n",
            "|    2|        42|       42|        1|[Churrasqueira, P...|{Paciência, 23585...|085bab2c-87ad-452...|      2|  null|       Usado| Apartamento|Residencial|   1|[{0, 0, Venda, 15...|     Paciência|  Zona Oeste|         0|   0|Venda|15000|\n",
            "|    0|      null|       12|        0|[Portaria 24h, El...|{Centro, 20231047...|096ad966-dc36-47b...|      0|  null|       Usado|      Outros|  Comercial|   1|[{250, null, Vend...|        Centro|Zona Central|       250|null|Venda|20000|\n",
            "|    1|        41|       41|        1|[Portaria 24h, Co...|{Guaratiba, 23036...|18d22cbe-1b86-476...|      2|  null|       Usado| Apartamento|Residencial|   1|[{0, 0, Venda, 20...|     Guaratiba|  Zona Oeste|         0|   0|Venda|20000|\n",
            "+-----+----------+---------+---------+--------------------+--------------------+--------------------+-------+------+------------+------------+-----------+----+--------------------+--------------+------------+----------+----+-----+-----+\n",
            "only showing top 10 rows\n",
            "\n"
          ]
        }
      ]
    },
    {
      "cell_type": "markdown",
      "source": [
        "# Seleção de features"
      ],
      "metadata": {
        "id": "i4xmcvENtTG5"
      }
    },
    {
      "cell_type": "code",
      "source": [
        "# para selecionar as features utiliza-se o método distinct() a fim de obter os valores únicos para cada coluna do dataframe, num primeiro momento suspeita-se\n",
        "# das colunas tipo_anuncio, tipo_uso e tipo."
      ],
      "metadata": {
        "id": "8KkxVLF0tVzg"
      },
      "execution_count": 17,
      "outputs": []
    },
    {
      "cell_type": "markdown",
      "source": [
        "# Coluna tipo_anuncio"
      ],
      "metadata": {
        "id": "VRiY14zLtdOU"
      }
    },
    {
      "cell_type": "code",
      "source": [
        "data.select('tipo_anuncio').distinct().show()"
      ],
      "metadata": {
        "colab": {
          "base_uri": "https://localhost:8080/"
        },
        "id": "7ci-KDQSthpL",
        "outputId": "caa0fef2-1c93-45fc-ec19-6d29bb1b6ef3"
      },
      "execution_count": 18,
      "outputs": [
        {
          "output_type": "stream",
          "name": "stdout",
          "text": [
            "+------------+\n",
            "|tipo_anuncio|\n",
            "+------------+\n",
            "|       Usado|\n",
            "|  Lançamento|\n",
            "+------------+\n",
            "\n"
          ]
        }
      ]
    },
    {
      "cell_type": "markdown",
      "source": [
        "todos os dados da coluna tipo_anuncio são iguais: \"Usado\"\n",
        "     \n",
        "#Coluna tipo_uso"
      ],
      "metadata": {
        "id": "xB79rGFtts4y"
      }
    },
    {
      "cell_type": "code",
      "source": [
        "data.select('tipo_uso').distinct().show()"
      ],
      "metadata": {
        "colab": {
          "base_uri": "https://localhost:8080/"
        },
        "id": "WU00Hayytvje",
        "outputId": "0241472f-0362-4d14-ec34-d9f95a9f7f39"
      },
      "execution_count": 19,
      "outputs": [
        {
          "output_type": "stream",
          "name": "stdout",
          "text": [
            "+-----------+\n",
            "|   tipo_uso|\n",
            "+-----------+\n",
            "|  Comercial|\n",
            "|Residencial|\n",
            "+-----------+\n",
            "\n"
          ]
        }
      ]
    },
    {
      "cell_type": "markdown",
      "source": [
        "todos os dados da coluna tipo_uso são iguais: \"Residencial\"\n",
        "     \n",
        "#Coluna tipo_unidade"
      ],
      "metadata": {
        "id": "AqkV2dcVt4FY"
      }
    },
    {
      "cell_type": "code",
      "source": [
        "data.select('tipo_unidade').distinct().show()"
      ],
      "metadata": {
        "colab": {
          "base_uri": "https://localhost:8080/"
        },
        "id": "_se-_lL3t65x",
        "outputId": "b0c71d1a-145d-47fa-cccd-21c45fe6d06b"
      },
      "execution_count": 20,
      "outputs": [
        {
          "output_type": "stream",
          "name": "stdout",
          "text": [
            "+------------+\n",
            "|tipo_unidade|\n",
            "+------------+\n",
            "|      Outros|\n",
            "| Apartamento|\n",
            "|        Casa|\n",
            "+------------+\n",
            "\n"
          ]
        }
      ]
    },
    {
      "cell_type": "markdown",
      "source": [
        "# Coluna tipo"
      ],
      "metadata": {
        "id": "lGlWqRO0uF97"
      }
    },
    {
      "cell_type": "code",
      "source": [
        "data.select('tipo').distinct().show()  "
      ],
      "metadata": {
        "colab": {
          "base_uri": "https://localhost:8080/"
        },
        "id": "k7aCpVA0uIDx",
        "outputId": "6d3e078c-c2b1-4c96-8a0e-49ea2f80f100"
      },
      "execution_count": 21,
      "outputs": [
        {
          "output_type": "stream",
          "name": "stdout",
          "text": [
            "+-------+\n",
            "|   tipo|\n",
            "+-------+\n",
            "|Aluguel|\n",
            "|  Venda|\n",
            "+-------+\n",
            "\n"
          ]
        }
      ]
    },
    {
      "cell_type": "markdown",
      "source": [
        "todos os dados da coluna tipo são iguais: \"Venda\"\n",
        "     \n",
        "#Drop das colunas tipo_anuncio, tipo_uso, tipo_unidade e tipo"
      ],
      "metadata": {
        "id": "oWOTJVUnuUEx"
      }
    },
    {
      "cell_type": "code",
      "source": [
        "# como as colunas citadas acima possuem apenas uma única informação, podem ser eliminadas do dataframe a fim de deixar apenas dados mais significativos:\n",
        "\n",
        "data = data.drop('tipo_anuncio')\n",
        "data = data.drop('tipo_uso')\n",
        "data = data.drop('tipo_unidade')\n",
        "data = data.drop('tipo')\n",
        "data.show(5)"
      ],
      "metadata": {
        "colab": {
          "base_uri": "https://localhost:8080/"
        },
        "id": "8IDlnIEnuXGt",
        "outputId": "42748f74-d556-46bc-d6e0-f493e0a191f7"
      },
      "execution_count": 22,
      "outputs": [
        {
          "output_type": "stream",
          "name": "stdout",
          "text": [
            "+-----+----------+---------+---------+--------------------+--------------------+--------------------+-------+------+----+--------------------+--------------+------------+----------+----+-----+\n",
            "|andar|area_total|area_util|banheiros|     caracteristicas|            endereco|                  id|quartos|suites|vaga|             valores|        bairro|        zona|condominio|iptu|valor|\n",
            "+-----+----------+---------+---------+--------------------+--------------------+--------------------+-------+------+----+--------------------+--------------+------------+----------+----+-----+\n",
            "|    0|      null|       16|        0|                  []|{Centro, 20061003...|47d553e0-79f2-4a4...|      0|     0|   1|[{260, 107, Venda...|        Centro|Zona Central|       260| 107|10000|\n",
            "|    0|      null|       14|        0|                  []|{Centro, 20051040...|b6ffbae1-17f6-487...|      0|  null|   0|[{260, 107, Venda...|        Centro|Zona Central|       260| 107|10000|\n",
            "|    0|      1026|     1026|        0|                  []|{Maria da Graça, ...|1fb030a5-9e3e-4a1...|      0|  null|   0|[{null, 1613, Ven...|Maria da Graça|  Zona Norte|      null|1613|10000|\n",
            "|    0|       120|      120|        0|[Portão eletrônic...|{Campo Grande, 23...|ac6cb348-69d6-45a...|      0|  null|null|[{80, null, Venda...|  Campo Grande|  Zona Oeste|        80|null|10000|\n",
            "|    0|         3|        3|        0|                  []|{São Cristóvão, 2...|e032b908-ef42-4d4...|      0|  null|null|[{0, 0, Venda, 50...| São Cristóvão|  Zona Norte|         0|   0| 5000|\n",
            "+-----+----------+---------+---------+--------------------+--------------------+--------------------+-------+------+----+--------------------+--------------+------------+----------+----+-----+\n",
            "only showing top 5 rows\n",
            "\n"
          ]
        }
      ]
    },
    {
      "cell_type": "markdown",
      "source": [
        "# Colunas area_total e area_util"
      ],
      "metadata": {
        "id": "hV9PZjdUuqFn"
      }
    },
    {
      "cell_type": "code",
      "source": [
        "# contando os valores da coluna area_total:\n",
        "\n",
        "data.select('area_total').groupBy('area_total').count().show()"
      ],
      "metadata": {
        "colab": {
          "base_uri": "https://localhost:8080/"
        },
        "id": "sViZ4sdsur4N",
        "outputId": "43b1848a-af2b-46be-e8dc-1e3c52a5ab1e"
      },
      "execution_count": 23,
      "outputs": [
        {
          "output_type": "stream",
          "name": "stdout",
          "text": [
            "+----------+-----+\n",
            "|area_total|count|\n",
            "+----------+-----+\n",
            "|       148|  266|\n",
            "|     14570|    1|\n",
            "|      1645|    1|\n",
            "|       463|    4|\n",
            "|       496|    3|\n",
            "|      5300|    1|\n",
            "|      1342|    1|\n",
            "|       471|    1|\n",
            "|      2122|    1|\n",
            "|       243|   23|\n",
            "|       540|   44|\n",
            "|      1896|    1|\n",
            "|       392|   13|\n",
            "|      1460|    1|\n",
            "|       858|    1|\n",
            "|       897|    2|\n",
            "|      1025|    1|\n",
            "|       623|    3|\n",
            "|      3475|    1|\n",
            "|        31|   92|\n",
            "+----------+-----+\n",
            "only showing top 20 rows\n",
            "\n"
          ]
        }
      ]
    },
    {
      "cell_type": "code",
      "source": [
        "# contando os valores area_util:\n",
        "\n",
        "data.select('area_util').groupBy('area_util').count().show()"
      ],
      "metadata": {
        "colab": {
          "base_uri": "https://localhost:8080/"
        },
        "id": "wqF9Ct6fu4zG",
        "outputId": "81ad9644-addd-49f4-98ef-d7a18ae80ac3"
      },
      "execution_count": 24,
      "outputs": [
        {
          "output_type": "stream",
          "name": "stdout",
          "text": [
            "+---------+-----+\n",
            "|area_util|count|\n",
            "+---------+-----+\n",
            "|      148|  321|\n",
            "|      496|    3|\n",
            "|      463|    7|\n",
            "|     1580|    1|\n",
            "|     5300|    1|\n",
            "|      471|    1|\n",
            "|      243|   29|\n",
            "|      540|   49|\n",
            "|     1896|    1|\n",
            "|      392|   14|\n",
            "|      737|    1|\n",
            "|     8932|    1|\n",
            "|      858|    2|\n",
            "|      897|    1|\n",
            "|      623|    5|\n",
            "|     3475|    1|\n",
            "|     1460|    1|\n",
            "|       31|  112|\n",
            "|     3000|   27|\n",
            "|      516|    4|\n",
            "+---------+-----+\n",
            "only showing top 20 rows\n",
            "\n"
          ]
        }
      ]
    },
    {
      "cell_type": "markdown",
      "source": [
        "\n",
        "apesar de existirem vários valores que se repetem, visualizando-os de maneira mais ampla vemos que estes são abrangentes e não podem ser descartados.\n",
        "     \n",
        "\n",
        "para contar os valores nulos nas colunas area_total e area_util temos que:\n"
      ],
      "metadata": {
        "id": "VwVreEIIvCgu"
      }
    },
    {
      "cell_type": "code",
      "source": [
        "from pyspark.sql.functions import col, isnan, when, count, lit, explode, array_contains, size, isnull, array"
      ],
      "metadata": {
        "id": "AvrOvoh4vE2e"
      },
      "execution_count": 25,
      "outputs": []
    },
    {
      "cell_type": "code",
      "source": [
        "null_area = data.select([count(when(isnan(c) | col(c).isNull(), c)).alias(c) for c in data.select(['area_total', 'area_util']).columns])\n",
        "null_area.show()\n"
      ],
      "metadata": {
        "colab": {
          "base_uri": "https://localhost:8080/"
        },
        "id": "849GXl1ivYWT",
        "outputId": "fe789772-74f4-4bfe-fe39-95696591505c"
      },
      "execution_count": 26,
      "outputs": [
        {
          "output_type": "stream",
          "name": "stdout",
          "text": [
            "+----------+---------+\n",
            "|area_total|area_util|\n",
            "+----------+---------+\n",
            "|     12595|       13|\n",
            "+----------+---------+\n",
            "\n"
          ]
        }
      ]
    },
    {
      "cell_type": "code",
      "source": [
        "# Convertendo os tipos das colunas"
      ],
      "metadata": {
        "id": "07v9leMjvmO3"
      },
      "execution_count": null,
      "outputs": []
    },
    {
      "cell_type": "code",
      "source": [
        "from pyspark.sql.types import IntegerType, DoubleType, StringType"
      ],
      "metadata": {
        "id": "2IeX3F3Ivo3r"
      },
      "execution_count": 27,
      "outputs": []
    },
    {
      "cell_type": "code",
      "source": [
        "data.printSchema()\n"
      ],
      "metadata": {
        "colab": {
          "base_uri": "https://localhost:8080/"
        },
        "id": "phFOj3gAvv1q",
        "outputId": "2d3a4a7f-6978-4df0-fcc9-8eaed2be4ac7"
      },
      "execution_count": 28,
      "outputs": [
        {
          "output_type": "stream",
          "name": "stdout",
          "text": [
            "root\n",
            " |-- andar: long (nullable = true)\n",
            " |-- area_total: integer (nullable = true)\n",
            " |-- area_util: integer (nullable = true)\n",
            " |-- banheiros: integer (nullable = true)\n",
            " |-- caracteristicas: array (nullable = true)\n",
            " |    |-- element: string (containsNull = true)\n",
            " |-- endereco: struct (nullable = true)\n",
            " |    |-- bairro: string (nullable = true)\n",
            " |    |-- cep: string (nullable = true)\n",
            " |    |-- cidade: string (nullable = true)\n",
            " |    |-- estado: string (nullable = true)\n",
            " |    |-- latitude: double (nullable = true)\n",
            " |    |-- longitude: double (nullable = true)\n",
            " |    |-- pais: string (nullable = true)\n",
            " |    |-- rua: string (nullable = true)\n",
            " |    |-- zona: string (nullable = true)\n",
            " |-- id: string (nullable = true)\n",
            " |-- quartos: integer (nullable = true)\n",
            " |-- suites: integer (nullable = true)\n",
            " |-- vaga: integer (nullable = true)\n",
            " |-- valores: array (nullable = true)\n",
            " |    |-- element: struct (containsNull = true)\n",
            " |    |    |-- condominio: string (nullable = true)\n",
            " |    |    |-- iptu: string (nullable = true)\n",
            " |    |    |-- tipo: string (nullable = true)\n",
            " |    |    |-- valor: string (nullable = true)\n",
            " |-- bairro: string (nullable = true)\n",
            " |-- zona: string (nullable = true)\n",
            " |-- condominio: string (nullable = true)\n",
            " |-- iptu: string (nullable = true)\n",
            " |-- valor: string (nullable = true)\n",
            "\n"
          ]
        }
      ]
    },
    {
      "cell_type": "code",
      "source": [
        "#Para o tipo Integer\n",
        "#Coluna andar\n",
        "\n",
        "data = data.withColumn('andar', data['andar'].cast(IntegerType()))\n",
        "     \n",
        "\n",
        "#Coluna banheiros\n",
        "\n",
        "data = data.withColumn('banheiros', data['banheiros'].cast(IntegerType()))\n",
        "     \n",
        "\n",
        "#Coluna suites\n",
        "\n",
        "data = data.withColumn('suites', data['suites'].cast(IntegerType()))\n",
        "     \n",
        "\n",
        "#Coluna quartos\n",
        "\n",
        "data = data.withColumn('quartos', data['quartos'].cast(IntegerType()))"
      ],
      "metadata": {
        "id": "kvVGLZDlwDkv"
      },
      "execution_count": 29,
      "outputs": []
    },
    {
      "cell_type": "code",
      "source": [
        "#Para o tipo Double\n",
        "\n",
        "#Coluna area_total\n",
        "\n",
        "data = data.withColumn('area_total', data['area_total'].cast(DoubleType()))\n",
        "     \n",
        "\n",
        "#Coluna area_util\n",
        "\n",
        "data = data.withColumn('area_util', data['area_util'].cast(DoubleType()))\n",
        "     \n",
        "\n",
        "#Coluna condominio\n",
        "\n",
        "data = data.withColumn('condominio', data['condominio'].cast(DoubleType()))\n",
        "     \n",
        "\n",
        "#Coluna iptu\n",
        "\n",
        "data = data.withColumn('iptu', data['iptu'].cast(DoubleType()))\n",
        "     \n"
      ],
      "metadata": {
        "id": "oYg_gd-FwR-H"
      },
      "execution_count": 30,
      "outputs": []
    },
    {
      "cell_type": "code",
      "source": [
        "#Coluna valor\n",
        "\n",
        "data = data.withColumn('valor', data['valor'].cast(DoubleType()))\n",
        "     \n"
      ],
      "metadata": {
        "id": "ZAP9AEAEw4LN"
      },
      "execution_count": 34,
      "outputs": []
    },
    {
      "cell_type": "code",
      "source": [
        "# por fim, mostra-se o Schema dos dados para verificar se houve a conversão dos tipos dos dados das colunas:\n",
        "\n",
        "data.printSchema()\n"
      ],
      "metadata": {
        "colab": {
          "base_uri": "https://localhost:8080/"
        },
        "id": "2R39TS-lxNB8",
        "outputId": "f11e2923-b453-4fd8-bb7e-b951cf09d8a6"
      },
      "execution_count": 32,
      "outputs": [
        {
          "output_type": "stream",
          "name": "stdout",
          "text": [
            "root\n",
            " |-- andar: integer (nullable = true)\n",
            " |-- area_total: double (nullable = true)\n",
            " |-- area_util: double (nullable = true)\n",
            " |-- banheiros: integer (nullable = true)\n",
            " |-- caracteristicas: array (nullable = true)\n",
            " |    |-- element: string (containsNull = true)\n",
            " |-- endereco: struct (nullable = true)\n",
            " |    |-- bairro: string (nullable = true)\n",
            " |    |-- cep: string (nullable = true)\n",
            " |    |-- cidade: string (nullable = true)\n",
            " |    |-- estado: string (nullable = true)\n",
            " |    |-- latitude: double (nullable = true)\n",
            " |    |-- longitude: double (nullable = true)\n",
            " |    |-- pais: string (nullable = true)\n",
            " |    |-- rua: string (nullable = true)\n",
            " |    |-- zona: string (nullable = true)\n",
            " |-- id: string (nullable = true)\n",
            " |-- quartos: integer (nullable = true)\n",
            " |-- suites: integer (nullable = true)\n",
            " |-- vaga: integer (nullable = true)\n",
            " |-- valores: array (nullable = true)\n",
            " |    |-- element: struct (containsNull = true)\n",
            " |    |    |-- condominio: string (nullable = true)\n",
            " |    |    |-- iptu: string (nullable = true)\n",
            " |    |    |-- tipo: string (nullable = true)\n",
            " |    |    |-- valor: string (nullable = true)\n",
            " |-- bairro: string (nullable = true)\n",
            " |-- zona: string (nullable = true)\n",
            " |-- condominio: double (nullable = true)\n",
            " |-- iptu: double (nullable = true)\n",
            " |-- valor: double (nullable = true)\n",
            "\n"
          ]
        }
      ]
    },
    {
      "cell_type": "markdown",
      "source": [
        "# Tratamento da coluna características\n",
        "\n",
        "os dados em que a coluna caracteristicas apresentan arrays vazios:"
      ],
      "metadata": {
        "id": "3__Ytwihx9oL"
      }
    },
    {
      "cell_type": "code",
      "source": [
        "data.filter(size('caracteristicas') == 0).show(5)\n"
      ],
      "metadata": {
        "colab": {
          "base_uri": "https://localhost:8080/"
        },
        "id": "VM61a4L-x_8b",
        "outputId": "55fd7957-c33d-4914-e6e1-2fab0c2e9743"
      },
      "execution_count": 35,
      "outputs": [
        {
          "output_type": "stream",
          "name": "stdout",
          "text": [
            "+-----+----------+---------+---------+---------------+--------------------+--------------------+-------+------+----+--------------------+--------------+------------+----------+------+-------+\n",
            "|andar|area_total|area_util|banheiros|caracteristicas|            endereco|                  id|quartos|suites|vaga|             valores|        bairro|        zona|condominio|  iptu|  valor|\n",
            "+-----+----------+---------+---------+---------------+--------------------+--------------------+-------+------+----+--------------------+--------------+------------+----------+------+-------+\n",
            "|    0|      null|     16.0|        0|             []|{Centro, 20061003...|47d553e0-79f2-4a4...|      0|     0|   1|[{260, 107, Venda...|        Centro|Zona Central|     260.0| 107.0|10000.0|\n",
            "|    0|      null|     14.0|        0|             []|{Centro, 20051040...|b6ffbae1-17f6-487...|      0|  null|   0|[{260, 107, Venda...|        Centro|Zona Central|     260.0| 107.0|10000.0|\n",
            "|    0|    1026.0|   1026.0|        0|             []|{Maria da Graça, ...|1fb030a5-9e3e-4a1...|      0|  null|   0|[{null, 1613, Ven...|Maria da Graça|  Zona Norte|      null|1613.0|10000.0|\n",
            "|    0|       3.0|      3.0|        0|             []|{São Cristóvão, 2...|e032b908-ef42-4d4...|      0|  null|null|[{0, 0, Venda, 50...| São Cristóvão|  Zona Norte|       0.0|   0.0| 5000.0|\n",
            "|    0|      20.0|     15.0|        1|             []|{Centro, 20231047...|df9cf0b8-b972-433...|      0|  null|   1|[{223, 87, Venda,...|        Centro|Zona Central|     223.0|  87.0|18500.0|\n",
            "+-----+----------+---------+---------+---------------+--------------------+--------------------+-------+------+----+--------------------+--------------+------------+----------+------+-------+\n",
            "only showing top 5 rows\n",
            "\n"
          ]
        }
      ]
    },
    {
      "cell_type": "code",
      "source": [
        "# São ao todo:\n",
        "\n",
        "f'{data.filter(size(\"caracteristicas\") == 0).count()} linhas do dataframe com essa especificidade'\n",
        "     "
      ],
      "metadata": {
        "colab": {
          "base_uri": "https://localhost:8080/",
          "height": 36
        },
        "id": "GaJnTmggyO9K",
        "outputId": "cf2786fd-17fe-4302-fab0-af0712dedb30"
      },
      "execution_count": 36,
      "outputs": [
        {
          "output_type": "execute_result",
          "data": {
            "text/plain": [
              "'21916 linhas do dataframe com essa especificidade'"
            ],
            "application/vnd.google.colaboratory.intrinsic+json": {
              "type": "string"
            }
          },
          "metadata": {},
          "execution_count": 36
        }
      ]
    },
    {
      "cell_type": "code",
      "source": [
        "# substitui-se os arrays vazios por valores nulos:\n",
        "\n",
        "data = data.withColumn('caracteristicas', when((size(col('caracteristicas')) == 0), lit(None)).otherwise(col('caracteristicas')))"
      ],
      "metadata": {
        "id": "lv3QPkB7yU6-"
      },
      "execution_count": 37,
      "outputs": []
    },
    {
      "cell_type": "code",
      "source": [
        "# e verifica-se que o número de linhas da coluna caracteristicas com valores nulos é igual ao número de linhas que tinham arrays vazios:\n",
        "\n",
        "data.filter(data['caracteristicas'].isNull()).count()"
      ],
      "metadata": {
        "colab": {
          "base_uri": "https://localhost:8080/"
        },
        "id": "AI5AFvggycfE",
        "outputId": "b4b26722-c809-4990-e54a-4a9099872ee9"
      },
      "execution_count": 38,
      "outputs": [
        {
          "output_type": "execute_result",
          "data": {
            "text/plain": [
              "21916"
            ]
          },
          "metadata": {},
          "execution_count": 38
        }
      ]
    },
    {
      "cell_type": "code",
      "source": [
        "data.filter(data['caracteristicas'].isNull()).show(5)"
      ],
      "metadata": {
        "colab": {
          "base_uri": "https://localhost:8080/"
        },
        "id": "JH5BIZrcyi7D",
        "outputId": "bbe22bed-e220-46f1-cfb0-74215a4782f7"
      },
      "execution_count": 39,
      "outputs": [
        {
          "output_type": "stream",
          "name": "stdout",
          "text": [
            "+-----+----------+---------+---------+---------------+--------------------+--------------------+-------+------+----+--------------------+--------------+------------+----------+------+-------+\n",
            "|andar|area_total|area_util|banheiros|caracteristicas|            endereco|                  id|quartos|suites|vaga|             valores|        bairro|        zona|condominio|  iptu|  valor|\n",
            "+-----+----------+---------+---------+---------------+--------------------+--------------------+-------+------+----+--------------------+--------------+------------+----------+------+-------+\n",
            "|    0|      null|     16.0|        0|           null|{Centro, 20061003...|47d553e0-79f2-4a4...|      0|     0|   1|[{260, 107, Venda...|        Centro|Zona Central|     260.0| 107.0|10000.0|\n",
            "|    0|      null|     14.0|        0|           null|{Centro, 20051040...|b6ffbae1-17f6-487...|      0|  null|   0|[{260, 107, Venda...|        Centro|Zona Central|     260.0| 107.0|10000.0|\n",
            "|    0|    1026.0|   1026.0|        0|           null|{Maria da Graça, ...|1fb030a5-9e3e-4a1...|      0|  null|   0|[{null, 1613, Ven...|Maria da Graça|  Zona Norte|      null|1613.0|10000.0|\n",
            "|    0|       3.0|      3.0|        0|           null|{São Cristóvão, 2...|e032b908-ef42-4d4...|      0|  null|null|[{0, 0, Venda, 50...| São Cristóvão|  Zona Norte|       0.0|   0.0| 5000.0|\n",
            "|    0|      20.0|     15.0|        1|           null|{Centro, 20231047...|df9cf0b8-b972-433...|      0|  null|   1|[{223, 87, Venda,...|        Centro|Zona Central|     223.0|  87.0|18500.0|\n",
            "+-----+----------+---------+---------+---------------+--------------------+--------------------+-------+------+----+--------------------+--------------+------------+----------+------+-------+\n",
            "only showing top 5 rows\n",
            "\n"
          ]
        }
      ]
    },
    {
      "cell_type": "markdown",
      "source": [
        "#Tratamento de dados nulos e NaN's"
      ],
      "metadata": {
        "id": "59wucJQ9ypTX"
      }
    },
    {
      "cell_type": "code",
      "source": [
        "selected_data = data.select(\n",
        "    'id', 'andar', 'area_total', \n",
        "    'area_util', 'banheiros', 'quartos', \n",
        "    'suites', 'vaga', 'bairro', \n",
        "    'zona', 'condominio', 'iptu', 'valor'\n",
        ")"
      ],
      "metadata": {
        "id": "VlSL2erLyrpb"
      },
      "execution_count": 40,
      "outputs": []
    },
    {
      "cell_type": "code",
      "source": [
        "# a quantidade de valores nulos (None e NaN) para cada coluna:\n",
        "\n",
        "data_count_null = data.select([count(when(isnan(c) | col(c).isNull(), c)).alias(c) for c in selected_data.columns])\n",
        "data_count_null.show()"
      ],
      "metadata": {
        "colab": {
          "base_uri": "https://localhost:8080/"
        },
        "id": "VZb3CkZwyy6k",
        "outputId": "65f89e03-663b-45df-ece4-699fb2d67c1d"
      },
      "execution_count": 41,
      "outputs": [
        {
          "output_type": "stream",
          "name": "stdout",
          "text": [
            "+---+-----+----------+---------+---------+-------+------+----+------+----+----------+-----+-----+\n",
            "| id|andar|area_total|area_util|banheiros|quartos|suites|vaga|bairro|zona|condominio| iptu|valor|\n",
            "+---+-----+----------+---------+---------+-------+------+----+------+----+----------+-----+-----+\n",
            "|  0|    0|     12595|       13|      173|    803|  9549|4952|     0|   0|      5943|10436|   28|\n",
            "+---+-----+----------+---------+---------+-------+------+----+------+----+----------+-----+-----+\n",
            "\n"
          ]
        }
      ]
    },
    {
      "cell_type": "markdown",
      "source": [
        "# Porcentagem dos valores nulos"
      ],
      "metadata": {
        "id": "lorxM-0EzC-D"
      }
    },
    {
      "cell_type": "code",
      "source": [
        "# um possível tratamento para dados nulos é a eliminação desses dados do dataframe, porém isso só indicado quando os dados nulos não ultrapassam 10% dos dados:\n",
        "\n",
        "total_data = data.count()\n",
        "f'O dataframe possui {total_data} linhas com dados'\n",
        "     \n"
      ],
      "metadata": {
        "colab": {
          "base_uri": "https://localhost:8080/",
          "height": 36
        },
        "id": "BcFlSfaPzEny",
        "outputId": "9c1d60f7-9fe2-4d70-de52-72776f4707b5"
      },
      "execution_count": 42,
      "outputs": [
        {
          "output_type": "execute_result",
          "data": {
            "text/plain": [
              "'O dataframe possui 89083 linhas com dados'"
            ],
            "application/vnd.google.colaboratory.intrinsic+json": {
              "type": "string"
            }
          },
          "metadata": {},
          "execution_count": 42
        }
      ]
    },
    {
      "cell_type": "code",
      "source": [
        "f'Os dados nulos da coluna area_total correspondem a {round(((9194 / total_data) * 100), 2)}% dos dados'"
      ],
      "metadata": {
        "colab": {
          "base_uri": "https://localhost:8080/",
          "height": 36
        },
        "id": "I1IiRgCizQxI",
        "outputId": "e70c6f22-a2c0-4b80-836b-7e866a4c6605"
      },
      "execution_count": 43,
      "outputs": [
        {
          "output_type": "execute_result",
          "data": {
            "text/plain": [
              "'Os dados nulos da coluna area_total correspondem a 10.32% dos dados'"
            ],
            "application/vnd.google.colaboratory.intrinsic+json": {
              "type": "string"
            }
          },
          "metadata": {},
          "execution_count": 43
        }
      ]
    },
    {
      "cell_type": "code",
      "source": [
        "f'Os dados nulos da coluna suites correspondem a {round(((5554 / total_data) * 100), 2)}% dos dados'"
      ],
      "metadata": {
        "colab": {
          "base_uri": "https://localhost:8080/",
          "height": 36
        },
        "id": "BF24NZyzzlGO",
        "outputId": "b8fa0e89-2343-40e0-c02b-aa7f49251328"
      },
      "execution_count": 44,
      "outputs": [
        {
          "output_type": "execute_result",
          "data": {
            "text/plain": [
              "'Os dados nulos da coluna suites correspondem a 6.23% dos dados'"
            ],
            "application/vnd.google.colaboratory.intrinsic+json": {
              "type": "string"
            }
          },
          "metadata": {},
          "execution_count": 44
        }
      ]
    },
    {
      "cell_type": "code",
      "source": [
        "f'Os dados nulos da coluna vaga correspondem a {round(((3017 / total_data) * 100), 2)}% dos dados'"
      ],
      "metadata": {
        "colab": {
          "base_uri": "https://localhost:8080/",
          "height": 36
        },
        "id": "bAo_BVxg0o0J",
        "outputId": "3c52181d-d9f2-4d96-ca00-6d1a9c2e9ea6"
      },
      "execution_count": 45,
      "outputs": [
        {
          "output_type": "execute_result",
          "data": {
            "text/plain": [
              "'Os dados nulos da coluna vaga correspondem a 3.39% dos dados'"
            ],
            "application/vnd.google.colaboratory.intrinsic+json": {
              "type": "string"
            }
          },
          "metadata": {},
          "execution_count": 45
        }
      ]
    },
    {
      "cell_type": "code",
      "source": [
        "f'Os dados nulos da coluna condominio correspondem a {round(((2371 / total_data) * 100), 2)}% dos dados'"
      ],
      "metadata": {
        "colab": {
          "base_uri": "https://localhost:8080/",
          "height": 36
        },
        "id": "yAVSKZ8a0waL",
        "outputId": "b08c5543-461a-45d7-914e-87e3191b4f4c"
      },
      "execution_count": 46,
      "outputs": [
        {
          "output_type": "execute_result",
          "data": {
            "text/plain": [
              "'Os dados nulos da coluna condominio correspondem a 2.66% dos dados'"
            ],
            "application/vnd.google.colaboratory.intrinsic+json": {
              "type": "string"
            }
          },
          "metadata": {},
          "execution_count": 46
        }
      ]
    },
    {
      "cell_type": "code",
      "source": [
        "f'Os dados nulos da coluna iptu correspondem a {round(((7199 / total_data) * 100), 2)}% dos dados'"
      ],
      "metadata": {
        "colab": {
          "base_uri": "https://localhost:8080/",
          "height": 36
        },
        "id": "lLegwx-z0zD5",
        "outputId": "a94c0b0d-bd6d-4f28-cb89-8101685e3ddb"
      },
      "execution_count": 47,
      "outputs": [
        {
          "output_type": "execute_result",
          "data": {
            "text/plain": [
              "'Os dados nulos da coluna iptu correspondem a 8.08% dos dados'"
            ],
            "application/vnd.google.colaboratory.intrinsic+json": {
              "type": "string"
            }
          },
          "metadata": {},
          "execution_count": 47
        }
      ]
    },
    {
      "cell_type": "markdown",
      "source": [
        "#Estatísticas descritivas"
      ],
      "metadata": {
        "id": "bn8eB-1o07ca"
      }
    },
    {
      "cell_type": "code",
      "source": [
        "# a tabela abaixo mostra algumas estatísticas descritivas dos dados do dataframe:\n",
        "\n",
        "data_summary = data.summary()\n",
        "data_summary.show()"
      ],
      "metadata": {
        "colab": {
          "base_uri": "https://localhost:8080/"
        },
        "id": "Z2ZOIwxD09Zd",
        "outputId": "3163d97c-a9d4-42be-d6f3-4593d9879cfd"
      },
      "execution_count": 48,
      "outputs": [
        {
          "output_type": "stream",
          "name": "stdout",
          "text": [
            "+-------+------------------+------------------+------------------+------------------+--------------------+------------------+------------------+------------------+--------------------+--------+-----------------+-----------------+------------------+\n",
            "|summary|             andar|        area_total|         area_util|         banheiros|                  id|           quartos|            suites|              vaga|              bairro|    zona|       condominio|             iptu|             valor|\n",
            "+-------+------------------+------------------+------------------+------------------+--------------------+------------------+------------------+------------------+--------------------+--------+-----------------+-----------------+------------------+\n",
            "|  count|             89083|             76488|             89070|             88910|               89083|             88280|             79534|             84131|               89083|   89083|            83140|            78647|             89055|\n",
            "|   mean|1.9362953649966885| 1505.607938500157| 653.3550578196924|2.6424699133955687|                null|2.6573969188944266|1.3574697613599216|1.6328226218635224|                null|    null|4723.382306952129| 7025.55306623266| 1407899.990814665|\n",
            "| stddev|  13.5215114971018|137785.08216784472|103040.96356384794| 1.737289272460927|                null| 1.233796161675485| 1.273889823590391|1.8845323833036838|                null|    null|113172.9246522911|325995.0267122505|1691022.7652925698|\n",
            "|    min|                 0|               0.0|               0.0|                 0|00002dd9-cc74-480...|                 0|                 0|                 0|            Abolição|        |              0.0|              0.0|             100.0|\n",
            "|    25%|                 0|              70.0|              70.0|                 1|                null|                 2|                 1|                 1|                null|    null|            392.0|             56.0|          431580.0|\n",
            "|    50%|                 0|             103.0|             100.0|                 2|                null|                 3|                 1|                 1|                null|    null|            850.0|            450.0|          829430.0|\n",
            "|    75%|                 2|             182.0|             178.0|                 3|                null|                 3|                 2|                 2|                null|    null|           1476.0|           2020.0|         1660000.0|\n",
            "|    max|              1234|             3.0E7|             3.0E7|                53|fffe97aa-814b-4eb...|                49|                49|               100|Área Rural de Rio...|Zona Sul|          1.285E7|         7.5122E7|            1.39E7|\n",
            "+-------+------------------+------------------+------------------+------------------+--------------------+------------------+------------------+------------------+--------------------+--------+-----------------+-----------------+------------------+\n",
            "\n"
          ]
        }
      ]
    },
    {
      "cell_type": "code",
      "source": [
        "#Mediana da coluna area_total\n",
        "\n",
        "# ao usar o método collect() obtém-se um valor passando a linha em que este se encontra no dataframe, como anseia-se pela mediana:\n",
        "\n",
        "area_total_median = data_summary.select('area_total').collect()[5][0]\n",
        "area_total_median = float(area_total_median)\n",
        "area_total_median\n",
        "\n",
        "average_area_total = data_summary.select('area_total').collect()[1][0]\n",
        "average_area_total = float(average_area_total)\n",
        "average_area_total\n",
        "     \n"
      ],
      "metadata": {
        "colab": {
          "base_uri": "https://localhost:8080/"
        },
        "id": "8wcu0cft1iU8",
        "outputId": "f3429abd-9d39-47a8-e81c-14aaca2c47f0"
      },
      "execution_count": 49,
      "outputs": [
        {
          "output_type": "execute_result",
          "data": {
            "text/plain": [
              "1505.607938500157"
            ]
          },
          "metadata": {},
          "execution_count": 49
        }
      ]
    },
    {
      "cell_type": "code",
      "source": [
        "#Mediana da coluna suites\n",
        "\n",
        "average_suites = float(data_summary.select('suites').collect()[1][0])\n",
        "average_suites "
      ],
      "metadata": {
        "colab": {
          "base_uri": "https://localhost:8080/"
        },
        "id": "rLQRbrjl1wor",
        "outputId": "fe4611d9-7bc9-42aa-f91b-f4f329de4093"
      },
      "execution_count": 50,
      "outputs": [
        {
          "output_type": "execute_result",
          "data": {
            "text/plain": [
              "1.3574697613599216"
            ]
          },
          "metadata": {},
          "execution_count": 50
        }
      ]
    },
    {
      "cell_type": "code",
      "source": [
        "#Mediana da coluna vaga\n",
        "\n",
        "average_vaga = float(data_summary.select('vaga').collect()[1][0])\n",
        "average_vaga"
      ],
      "metadata": {
        "colab": {
          "base_uri": "https://localhost:8080/"
        },
        "id": "Cu8jS9k516oW",
        "outputId": "31eba5e6-5660-4c7a-e115-84d639d24b4f"
      },
      "execution_count": 51,
      "outputs": [
        {
          "output_type": "execute_result",
          "data": {
            "text/plain": [
              "1.6328226218635224"
            ]
          },
          "metadata": {},
          "execution_count": 51
        }
      ]
    },
    {
      "cell_type": "code",
      "source": [
        "#Mediana da coluna condominio\n",
        "\n",
        "condominio_median = float(data_summary.select('condominio').collect()[5][0])\n",
        "condominio_median\n",
        "\n",
        "average_condominio = float(data_summary.select('condominio').collect()[1][0])\n",
        "average_condominio"
      ],
      "metadata": {
        "colab": {
          "base_uri": "https://localhost:8080/"
        },
        "id": "1hg_pv7l2GyB",
        "outputId": "ee7aa99a-201c-4f24-d821-5fc0829873aa"
      },
      "execution_count": 52,
      "outputs": [
        {
          "output_type": "execute_result",
          "data": {
            "text/plain": [
              "4723.382306952129"
            ]
          },
          "metadata": {},
          "execution_count": 52
        }
      ]
    },
    {
      "cell_type": "code",
      "source": [
        "#Mediana da coluna iptu\n",
        "\n",
        "iptu_median = float(data_summary.select('iptu').collect()[5][0])\n",
        "iptu_median\n",
        "\n",
        "average_iptu = float(data_summary.select('iptu').collect()[1][0])\n",
        "average_iptu"
      ],
      "metadata": {
        "colab": {
          "base_uri": "https://localhost:8080/"
        },
        "id": "pqvPprC92Os9",
        "outputId": "ecf23b1e-329b-46f1-f6b4-0e064c3e51e8"
      },
      "execution_count": 53,
      "outputs": [
        {
          "output_type": "execute_result",
          "data": {
            "text/plain": [
              "7025.55306623266"
            ]
          },
          "metadata": {},
          "execution_count": 53
        }
      ]
    },
    {
      "cell_type": "markdown",
      "source": [
        "#Substituição dos valores nulos por zero"
      ],
      "metadata": {
        "id": "bAVnMyWJ2WFj"
      }
    },
    {
      "cell_type": "code",
      "source": [
        "data = data.fillna(0)"
      ],
      "metadata": {
        "id": "ZoduNmcW2Xxj"
      },
      "execution_count": 54,
      "outputs": []
    },
    {
      "cell_type": "code",
      "source": [
        "data.select([count(when(isnan(c) | col(c).isNull(), c)).alias(c) for c in selected_data.columns]).show()"
      ],
      "metadata": {
        "colab": {
          "base_uri": "https://localhost:8080/"
        },
        "id": "9W-PrP8o2dR1",
        "outputId": "a9c364d3-f5d0-488a-bea7-279ac4db4f1b"
      },
      "execution_count": 55,
      "outputs": [
        {
          "output_type": "stream",
          "name": "stdout",
          "text": [
            "+---+-----+----------+---------+---------+-------+------+----+------+----+----------+----+-----+\n",
            "| id|andar|area_total|area_util|banheiros|quartos|suites|vaga|bairro|zona|condominio|iptu|valor|\n",
            "+---+-----+----------+---------+---------+-------+------+----+------+----+----------+----+-----+\n",
            "|  0|    0|         0|        0|        0|      0|     0|   0|     0|   0|         0|   0|    0|\n",
            "+---+-----+----------+---------+---------+-------+------+----+------+----+----------+----+-----+\n",
            "\n"
          ]
        }
      ]
    },
    {
      "cell_type": "code",
      "source": [
        "data.show(10)"
      ],
      "metadata": {
        "colab": {
          "base_uri": "https://localhost:8080/"
        },
        "id": "MbeUEnze2n8T",
        "outputId": "7fc264b3-0612-49c8-ee57-e2d8d1dd7001"
      },
      "execution_count": 56,
      "outputs": [
        {
          "output_type": "stream",
          "name": "stdout",
          "text": [
            "+-----+----------+---------+---------+--------------------+--------------------+--------------------+-------+------+----+--------------------+--------------+------------+----------+------+-------+\n",
            "|andar|area_total|area_util|banheiros|     caracteristicas|            endereco|                  id|quartos|suites|vaga|             valores|        bairro|        zona|condominio|  iptu|  valor|\n",
            "+-----+----------+---------+---------+--------------------+--------------------+--------------------+-------+------+----+--------------------+--------------+------------+----------+------+-------+\n",
            "|    0|       0.0|     16.0|        0|                null|{Centro, 20061003...|47d553e0-79f2-4a4...|      0|     0|   1|[{260, 107, Venda...|        Centro|Zona Central|     260.0| 107.0|10000.0|\n",
            "|    0|       0.0|     14.0|        0|                null|{Centro, 20051040...|b6ffbae1-17f6-487...|      0|     0|   0|[{260, 107, Venda...|        Centro|Zona Central|     260.0| 107.0|10000.0|\n",
            "|    0|    1026.0|   1026.0|        0|                null|{Maria da Graça, ...|1fb030a5-9e3e-4a1...|      0|     0|   0|[{null, 1613, Ven...|Maria da Graça|  Zona Norte|       0.0|1613.0|10000.0|\n",
            "|    0|     120.0|    120.0|        0|[Portão eletrônic...|{Campo Grande, 23...|ac6cb348-69d6-45a...|      0|     0|   0|[{80, null, Venda...|  Campo Grande|  Zona Oeste|      80.0|   0.0|10000.0|\n",
            "|    0|       3.0|      3.0|        0|                null|{São Cristóvão, 2...|e032b908-ef42-4d4...|      0|     0|   0|[{0, 0, Venda, 50...| São Cristóvão|  Zona Norte|       0.0|   0.0| 5000.0|\n",
            "|    0|      20.0|     15.0|        1|                null|{Centro, 20231047...|df9cf0b8-b972-433...|      0|     0|   1|[{223, 87, Venda,...|        Centro|Zona Central|     223.0|  87.0|18500.0|\n",
            "|    3|      43.0|     43.0|        1|[Academia, Churra...|{Paciência, 23585...|d2e3a3aa-09b5-45a...|      2|     0|   1|[{245, null, Vend...|     Paciência|  Zona Oeste|     245.0|   0.0|15000.0|\n",
            "|    2|      42.0|     42.0|        1|[Churrasqueira, P...|{Paciência, 23585...|085bab2c-87ad-452...|      2|     0|   1|[{0, 0, Venda, 15...|     Paciência|  Zona Oeste|       0.0|   0.0|15000.0|\n",
            "|    0|       0.0|     12.0|        0|[Portaria 24h, El...|{Centro, 20231047...|096ad966-dc36-47b...|      0|     0|   1|[{250, null, Vend...|        Centro|Zona Central|     250.0|   0.0|20000.0|\n",
            "|    1|      41.0|     41.0|        1|[Portaria 24h, Co...|{Guaratiba, 23036...|18d22cbe-1b86-476...|      2|     0|   1|[{0, 0, Venda, 20...|     Guaratiba|  Zona Oeste|       0.0|   0.0|20000.0|\n",
            "+-----+----------+---------+---------+--------------------+--------------------+--------------------+-------+------+----+--------------------+--------------+------------+----------+------+-------+\n",
            "only showing top 10 rows\n",
            "\n"
          ]
        }
      ]
    },
    {
      "cell_type": "markdown",
      "source": [
        "#Preparação dos dados para machine learning\n",
        "\n",
        "Coluna dummies"
      ],
      "metadata": {
        "id": "14G8WBOo5E0_"
      }
    },
    {
      "cell_type": "code",
      "source": [
        "# os dados presentes nos arrays da coluna são:\n",
        "\n",
        "caracteristicas = data.select(explode('caracteristicas').alias('caracteristicas')).distinct()\n",
        "caracteristicas.show()"
      ],
      "metadata": {
        "colab": {
          "base_uri": "https://localhost:8080/"
        },
        "id": "vzlWaFCJ5INW",
        "outputId": "1b39303e-5f83-4291-bc43-3ce27d1040ed"
      },
      "execution_count": 59,
      "outputs": [
        {
          "output_type": "stream",
          "name": "stdout",
          "text": [
            "+------------------+\n",
            "|   caracteristicas|\n",
            "+------------------+\n",
            "|Condomínio fechado|\n",
            "|        Playground|\n",
            "| Portão eletrônico|\n",
            "|           Piscina|\n",
            "|Animais permitidos|\n",
            "|      Portaria 24h|\n",
            "|          Elevador|\n",
            "|          Academia|\n",
            "|   Salão de festas|\n",
            "|     Churrasqueira|\n",
            "+------------------+\n",
            "\n"
          ]
        }
      ]
    },
    {
      "cell_type": "code",
      "source": [
        "list_caracteristicas = [\n",
        "    'Condomínio fechado', 'Playground', 'Portão eletrônico',\n",
        "    'Piscina', 'Animais permitidos', 'Portaria 24h', 'Elevador',\n",
        "    'Academia', 'Salão de festas', 'Churrasqueira'\n",
        "]"
      ],
      "metadata": {
        "id": "ePWD46jv5WAx"
      },
      "execution_count": 60,
      "outputs": []
    },
    {
      "cell_type": "code",
      "source": [
        "# dummies para as características do imóvel:\n",
        "\n",
        "for caracteristica in list_caracteristicas:\n",
        "  data = data.withColumn(caracteristica, when(array_contains(col(\"caracteristicas\"), caracteristica) == True, lit(1)).otherwise(0))"
      ],
      "metadata": {
        "id": "AUa0oUb65Y_-"
      },
      "execution_count": 61,
      "outputs": []
    },
    {
      "cell_type": "code",
      "source": [
        "# elimina-se a coluna caracteristicas do dataframe:\n",
        "\n",
        "data = data.drop('caracteristicas')"
      ],
      "metadata": {
        "id": "r4P4ir_55iWR"
      },
      "execution_count": 62,
      "outputs": []
    },
    {
      "cell_type": "code",
      "source": [
        "data.columns"
      ],
      "metadata": {
        "colab": {
          "base_uri": "https://localhost:8080/"
        },
        "id": "O3T3OMMR5k_8",
        "outputId": "f702e2b7-5a65-4f8c-ea46-6cb615a6f136"
      },
      "execution_count": 63,
      "outputs": [
        {
          "output_type": "execute_result",
          "data": {
            "text/plain": [
              "['andar',\n",
              " 'area_total',\n",
              " 'area_util',\n",
              " 'banheiros',\n",
              " 'endereco',\n",
              " 'id',\n",
              " 'quartos',\n",
              " 'suites',\n",
              " 'vaga',\n",
              " 'valores',\n",
              " 'bairro',\n",
              " 'zona',\n",
              " 'condominio',\n",
              " 'iptu',\n",
              " 'valor',\n",
              " 'Condomínio fechado',\n",
              " 'Playground',\n",
              " 'Portão eletrônico',\n",
              " 'Piscina',\n",
              " 'Animais permitidos',\n",
              " 'Portaria 24h',\n",
              " 'Elevador',\n",
              " 'Academia',\n",
              " 'Salão de festas',\n",
              " 'Churrasqueira']"
            ]
          },
          "metadata": {},
          "execution_count": 63
        }
      ]
    },
    {
      "cell_type": "markdown",
      "source": [
        "#Zona dummies"
      ],
      "metadata": {
        "id": "kJliG8Te5xZr"
      }
    },
    {
      "cell_type": "code",
      "source": [
        "# as zonas presentes no dataframe:\n",
        "\n",
        "data.select('zona').distinct().show()"
      ],
      "metadata": {
        "colab": {
          "base_uri": "https://localhost:8080/"
        },
        "id": "4Dm0WblN5zPN",
        "outputId": "45828f99-096d-4ae1-d8f5-b1990bd6daf9"
      },
      "execution_count": 64,
      "outputs": [
        {
          "output_type": "stream",
          "name": "stdout",
          "text": [
            "+------------+\n",
            "|        zona|\n",
            "+------------+\n",
            "|  Zona Norte|\n",
            "|  Zona Oeste|\n",
            "|Zona Central|\n",
            "|    Zona Sul|\n",
            "|            |\n",
            "+------------+\n",
            "\n"
          ]
        }
      ]
    },
    {
      "cell_type": "code",
      "source": [
        "# para gerar os dummies para a variável zona:\n",
        "\n",
        "zonas = data.groupBy('id').pivot('zona').agg(lit(1)).fillna(0)"
      ],
      "metadata": {
        "id": "9FkZFZJq57Db"
      },
      "execution_count": 65,
      "outputs": []
    },
    {
      "cell_type": "code",
      "source": [
        "zonas = zonas.drop('')"
      ],
      "metadata": {
        "id": "aLv6HTwJ6Ayj"
      },
      "execution_count": 66,
      "outputs": []
    },
    {
      "cell_type": "code",
      "source": [
        "zonas.show(5)"
      ],
      "metadata": {
        "colab": {
          "base_uri": "https://localhost:8080/"
        },
        "id": "9fSr9jo36F3e",
        "outputId": "0e03f7ec-f544-413b-dc8c-9479ad6dce5b"
      },
      "execution_count": 67,
      "outputs": [
        {
          "output_type": "stream",
          "name": "stdout",
          "text": [
            "+--------------------+------------+----------+----------+--------+\n",
            "|                  id|Zona Central|Zona Norte|Zona Oeste|Zona Sul|\n",
            "+--------------------+------------+----------+----------+--------+\n",
            "|4e47e4d4-3326-4eb...|           0|         0|         0|       1|\n",
            "|02fba6ef-a691-442...|           0|         0|         1|       0|\n",
            "|fc03c1a9-8bbb-41a...|           0|         1|         0|       0|\n",
            "|3dd5d200-0a7f-43d...|           0|         0|         0|       1|\n",
            "|82707939-71bd-40c...|           0|         0|         0|       1|\n",
            "+--------------------+------------+----------+----------+--------+\n",
            "only showing top 5 rows\n",
            "\n"
          ]
        }
      ]
    },
    {
      "cell_type": "code",
      "source": [
        "# juntado esses dados ao dataframe:\n",
        "\n",
        "data = data.join(zonas, 'id', how= 'inner')"
      ],
      "metadata": {
        "id": "BOi9L9yI6O4F"
      },
      "execution_count": 68,
      "outputs": []
    },
    {
      "cell_type": "code",
      "source": [
        "# elimina-se a coluna zona:\n",
        "\n",
        "data = data.drop('zona')"
      ],
      "metadata": {
        "id": "izoj0kKF6THu"
      },
      "execution_count": 69,
      "outputs": []
    },
    {
      "cell_type": "code",
      "source": [
        "data.show(5)"
      ],
      "metadata": {
        "colab": {
          "base_uri": "https://localhost:8080/"
        },
        "id": "HihyDICY6X33",
        "outputId": "bfedd1b9-27de-4b84-b9b1-bad6a9e67268"
      },
      "execution_count": 70,
      "outputs": [
        {
          "output_type": "stream",
          "name": "stdout",
          "text": [
            "+--------------------+-----+----------+---------+---------+--------------------+-------+------+----+--------------------+--------------+----------+------+-------+------------------+----------+-----------------+-------+------------------+------------+--------+--------+---------------+-------------+------------+----------+----------+--------+\n",
            "|                  id|andar|area_total|area_util|banheiros|            endereco|quartos|suites|vaga|             valores|        bairro|condominio|  iptu|  valor|Condomínio fechado|Playground|Portão eletrônico|Piscina|Animais permitidos|Portaria 24h|Elevador|Academia|Salão de festas|Churrasqueira|Zona Central|Zona Norte|Zona Oeste|Zona Sul|\n",
            "+--------------------+-----+----------+---------+---------+--------------------+-------+------+----+--------------------+--------------+----------+------+-------+------------------+----------+-----------------+-------+------------------+------------+--------+--------+---------------+-------------+------------+----------+----------+--------+\n",
            "|47d553e0-79f2-4a4...|    0|       0.0|     16.0|        0|{Centro, 20061003...|      0|     0|   1|[{260, 107, Venda...|        Centro|     260.0| 107.0|10000.0|                 0|         0|                0|      0|                 0|           0|       0|       0|              0|            0|           1|         0|         0|       0|\n",
            "|b6ffbae1-17f6-487...|    0|       0.0|     14.0|        0|{Centro, 20051040...|      0|     0|   0|[{260, 107, Venda...|        Centro|     260.0| 107.0|10000.0|                 0|         0|                0|      0|                 0|           0|       0|       0|              0|            0|           1|         0|         0|       0|\n",
            "|1fb030a5-9e3e-4a1...|    0|    1026.0|   1026.0|        0|{Maria da Graça, ...|      0|     0|   0|[{null, 1613, Ven...|Maria da Graça|       0.0|1613.0|10000.0|                 0|         0|                0|      0|                 0|           0|       0|       0|              0|            0|           0|         1|         0|       0|\n",
            "|ac6cb348-69d6-45a...|    0|     120.0|    120.0|        0|{Campo Grande, 23...|      0|     0|   0|[{80, null, Venda...|  Campo Grande|      80.0|   0.0|10000.0|                 1|         0|                1|      0|                 0|           0|       0|       0|              0|            0|           0|         0|         1|       0|\n",
            "|e032b908-ef42-4d4...|    0|       3.0|      3.0|        0|{São Cristóvão, 2...|      0|     0|   0|[{0, 0, Venda, 50...| São Cristóvão|       0.0|   0.0| 5000.0|                 0|         0|                0|      0|                 0|           0|       0|       0|              0|            0|           0|         1|         0|       0|\n",
            "+--------------------+-----+----------+---------+---------+--------------------+-------+------+----+--------------------+--------------+----------+------+-------+------------------+----------+-----------------+-------+------------------+------------+--------+--------+---------------+-------------+------------+----------+----------+--------+\n",
            "only showing top 5 rows\n",
            "\n"
          ]
        }
      ]
    },
    {
      "cell_type": "code",
      "source": [
        "# remove-se a coluna bairro:\n",
        "\n",
        "data = data.drop('bairro')"
      ],
      "metadata": {
        "id": "1OmBcguX6lDJ"
      },
      "execution_count": 71,
      "outputs": []
    },
    {
      "cell_type": "markdown",
      "source": [
        "#Salvando a base de dados em formato parquet"
      ],
      "metadata": {
        "id": "ktgl1Oml6s3I"
      }
    },
    {
      "cell_type": "code",
      "source": [
        "data.columns"
      ],
      "metadata": {
        "colab": {
          "base_uri": "https://localhost:8080/"
        },
        "id": "2eglIbDJ6ulX",
        "outputId": "bf1c77d4-0bf0-4ad7-ea9f-ce54955e86c4"
      },
      "execution_count": 72,
      "outputs": [
        {
          "output_type": "execute_result",
          "data": {
            "text/plain": [
              "['id',\n",
              " 'andar',\n",
              " 'area_total',\n",
              " 'area_util',\n",
              " 'banheiros',\n",
              " 'endereco',\n",
              " 'quartos',\n",
              " 'suites',\n",
              " 'vaga',\n",
              " 'valores',\n",
              " 'condominio',\n",
              " 'iptu',\n",
              " 'valor',\n",
              " 'Condomínio fechado',\n",
              " 'Playground',\n",
              " 'Portão eletrônico',\n",
              " 'Piscina',\n",
              " 'Animais permitidos',\n",
              " 'Portaria 24h',\n",
              " 'Elevador',\n",
              " 'Academia',\n",
              " 'Salão de festas',\n",
              " 'Churrasqueira',\n",
              " 'Zona Central',\n",
              " 'Zona Norte',\n",
              " 'Zona Oeste',\n",
              " 'Zona Sul']"
            ]
          },
          "metadata": {},
          "execution_count": 72
        }
      ]
    },
    {
      "cell_type": "code",
      "source": [
        "# renomeando as novas colunas para que estejam adequadas ao formato parquet:\n",
        "\n",
        "data = data.withColumnRenamed('Condomínio fechado', 'condominio_fechado')\\\n",
        "        .withColumnRenamed('Playground', 'playground')\\\n",
        "        .withColumnRenamed('Portão eletrônico', 'portao_eletronico')\\\n",
        "        .withColumnRenamed('Piscina', 'piscina')\\\n",
        "        .withColumnRenamed('Animais permitidos', 'animais_permitidos')\\\n",
        "        .withColumnRenamed('Portaria 24h', 'portaria_24h')\\\n",
        "        .withColumnRenamed('Elevador', 'elevador')\\\n",
        "        .withColumnRenamed('Academia', 'academia')\\\n",
        "        .withColumnRenamed('Salão de festas', 'salao_de_festas')\\\n",
        "        .withColumnRenamed('Churrasqueira', 'churrasqueira')\\\n",
        "        .withColumnRenamed('Zona Central', 'zona_central')\\\n",
        "        .withColumnRenamed('Zona Norte', 'zona_norte')\\\n",
        "        .withColumnRenamed('Zona Oeste', 'zona_oeste')\\\n",
        "        .withColumnRenamed('Zona Sul', 'zona_sul')\n"
      ],
      "metadata": {
        "id": "RD1tzBIz642g"
      },
      "execution_count": 73,
      "outputs": []
    },
    {
      "cell_type": "code",
      "source": [
        "data.write.parquet('dataset_imoveis_RJ')"
      ],
      "metadata": {
        "id": "W0Kt_gXG6-nk"
      },
      "execution_count": 74,
      "outputs": []
    },
    {
      "cell_type": "markdown",
      "source": [
        "#Vetorização dos dados"
      ],
      "metadata": {
        "id": "1zMkrC1X7Pv4"
      }
    },
    {
      "cell_type": "code",
      "source": [
        "from pyspark.ml.feature import VectorAssembler"
      ],
      "metadata": {
        "id": "KXXux5Kj7LgM"
      },
      "execution_count": 75,
      "outputs": []
    },
    {
      "cell_type": "code",
      "source": [
        "features = ['andar', 'area_total', 'area_util', 'banheiros', 'quartos', 'suites', 'vaga',\n",
        "            'condominio', 'iptu', 'valor', 'condominio_fechado', 'playground', 'portao_eletronico',\n",
        "            'piscina', 'animais_permitidos', 'portaria_24h', 'elevador', 'academia', 'salao_de_festas',\n",
        "            'churrasqueira', 'zona_central', 'zona_norte', 'zona_oeste', 'zona_sul']"
      ],
      "metadata": {
        "id": "XMbhNohX7NQO"
      },
      "execution_count": 77,
      "outputs": []
    },
    {
      "cell_type": "code",
      "source": [
        "assembler = VectorAssembler(inputCols= features, outputCol= 'features')"
      ],
      "metadata": {
        "id": "EkTEJsNH7adD"
      },
      "execution_count": 78,
      "outputs": []
    },
    {
      "cell_type": "code",
      "source": [
        "output = assembler.transform(data)"
      ],
      "metadata": {
        "id": "SJm4EXs07gJJ"
      },
      "execution_count": 79,
      "outputs": []
    },
    {
      "cell_type": "code",
      "source": [
        "output = output.select('features', 'valor').withColumnRenamed('valor', 'values')"
      ],
      "metadata": {
        "id": "S_P2qVHl7j0d"
      },
      "execution_count": 80,
      "outputs": []
    },
    {
      "cell_type": "code",
      "source": [
        "output.show(5, truncate= False)"
      ],
      "metadata": {
        "colab": {
          "base_uri": "https://localhost:8080/"
        },
        "id": "IPe9zmXD7ssr",
        "outputId": "ebbdb047-cee8-46f3-c881-a718fc5fab54"
      },
      "execution_count": 81,
      "outputs": [
        {
          "output_type": "stream",
          "name": "stdout",
          "text": [
            "+--------------------------------------------------------------+-------+\n",
            "|features                                                      |values |\n",
            "+--------------------------------------------------------------+-------+\n",
            "|(24,[2,6,7,8,9,20],[16.0,1.0,260.0,107.0,10000.0,1.0])        |10000.0|\n",
            "|(24,[2,7,8,9,20],[14.0,260.0,107.0,10000.0,1.0])              |10000.0|\n",
            "|(24,[1,2,8,9,21],[1026.0,1026.0,1613.0,10000.0,1.0])          |10000.0|\n",
            "|(24,[1,2,7,9,10,12,22],[120.0,120.0,80.0,10000.0,1.0,1.0,1.0])|10000.0|\n",
            "|(24,[1,2,9,21],[3.0,3.0,5000.0,1.0])                          |5000.0 |\n",
            "+--------------------------------------------------------------+-------+\n",
            "only showing top 5 rows\n",
            "\n"
          ]
        }
      ]
    },
    {
      "cell_type": "markdown",
      "source": [
        "#Modelo de regressão linear"
      ],
      "metadata": {
        "id": "CKNKvYiF75kn"
      }
    },
    {
      "cell_type": "code",
      "source": [
        "from pyspark.ml.regression import LinearRegression\n"
      ],
      "metadata": {
        "id": "D5L8cFZO77jN"
      },
      "execution_count": 82,
      "outputs": []
    },
    {
      "cell_type": "code",
      "source": [
        "# definindo os dados de treinamento e teste:\n",
        "\n",
        "train_data, test_data = output.randomSplit([0.7, 0.3], seed= 101)"
      ],
      "metadata": {
        "id": "5-wlGyBV8bDK"
      },
      "execution_count": 83,
      "outputs": []
    },
    {
      "cell_type": "code",
      "source": [
        "# modelo:\n",
        "\n",
        "regressor = LinearRegression(featuresCol= 'features', labelCol= 'values')\n",
        "regressor = regressor.fit(train_data)"
      ],
      "metadata": {
        "id": "agPdGcdS8h9E"
      },
      "execution_count": 84,
      "outputs": []
    },
    {
      "cell_type": "code",
      "source": [
        "# predições treino:\n",
        "\n",
        "pred_train_data = regressor.evaluate(train_data)\n",
        "pred_train_data.predictions.show(5)"
      ],
      "metadata": {
        "colab": {
          "base_uri": "https://localhost:8080/"
        },
        "id": "K6GhaqVc8wD6",
        "outputId": "0b9742de-d2c8-4751-dcec-bd9eea2d4ce9"
      },
      "execution_count": 85,
      "outputs": [
        {
          "output_type": "stream",
          "name": "stdout",
          "text": [
            "+--------------------+---------+------------------+\n",
            "|            features|   values|        prediction|\n",
            "+--------------------+---------+------------------+\n",
            "|(24,[0,1,2,3,4,5,...|3490000.0|3490000.0000000014|\n",
            "|(24,[0,1,2,3,4,5,...| 690000.0| 690000.0000000007|\n",
            "|(24,[0,1,2,3,4,5,...|2850000.0|2850000.0000000005|\n",
            "|(24,[0,1,2,3,4,5,...|3250000.0|         3250000.0|\n",
            "|(24,[0,1,2,3,4,5,...|6900000.0| 6899999.999999998|\n",
            "+--------------------+---------+------------------+\n",
            "only showing top 5 rows\n",
            "\n"
          ]
        }
      ]
    },
    {
      "cell_type": "code",
      "source": [
        "# predições teste:\n",
        "\n",
        "pred_test_data = regressor.evaluate(test_data)\n",
        "pred_test_data.predictions.show(5)"
      ],
      "metadata": {
        "colab": {
          "base_uri": "https://localhost:8080/"
        },
        "id": "_n8rV5uF8-9X",
        "outputId": "74b7c8a6-dde2-440e-acab-92ce306699d5"
      },
      "execution_count": 86,
      "outputs": [
        {
          "output_type": "stream",
          "name": "stdout",
          "text": [
            "+--------------------+---------+-----------------+\n",
            "|            features|   values|       prediction|\n",
            "+--------------------+---------+-----------------+\n",
            "|(24,[0,1,2,3,4,5,...|4140000.0|4140000.000000001|\n",
            "|(24,[0,1,2,3,4,5,...|4090000.0|        4090000.0|\n",
            "|(24,[0,1,2,3,4,5,...| 600000.0|600000.0000000003|\n",
            "|(24,[0,1,2,3,4,5,...| 285000.0|285000.0000000001|\n",
            "|(24,[0,1,2,3,4,5,...| 340000.0|340000.0000000005|\n",
            "+--------------------+---------+-----------------+\n",
            "only showing top 5 rows\n",
            "\n"
          ]
        }
      ]
    },
    {
      "cell_type": "markdown",
      "source": [
        "#Avaliação do modelo de regressão linear\n",
        "\n",
        "Treino\n",
        "\n",
        "RMSE"
      ],
      "metadata": {
        "id": "DI86FsVb9N_X"
      }
    },
    {
      "cell_type": "code",
      "source": [
        "f'RMSE para os dados de treino: {pred_train_data.rootMeanSquaredError}'"
      ],
      "metadata": {
        "colab": {
          "base_uri": "https://localhost:8080/",
          "height": 36
        },
        "id": "OWBfCEcx9M3x",
        "outputId": "e69338b2-7c9b-4b26-a372-d136e7aa5d04"
      },
      "execution_count": 87,
      "outputs": [
        {
          "output_type": "execute_result",
          "data": {
            "text/plain": [
              "'RMSE para os dados de treino: 1.34975789453286e-08'"
            ],
            "application/vnd.google.colaboratory.intrinsic+json": {
              "type": "string"
            }
          },
          "metadata": {},
          "execution_count": 87
        }
      ]
    },
    {
      "cell_type": "markdown",
      "source": [
        "R²"
      ],
      "metadata": {
        "id": "ysl1CqWI9etk"
      }
    },
    {
      "cell_type": "code",
      "source": [
        "f'R² para os dados de treino: {pred_train_data.r2}'"
      ],
      "metadata": {
        "colab": {
          "base_uri": "https://localhost:8080/",
          "height": 36
        },
        "id": "X5bIVRUa9i5d",
        "outputId": "eb1341ab-6e18-4cda-eedd-a585a22b81e3"
      },
      "execution_count": 88,
      "outputs": [
        {
          "output_type": "execute_result",
          "data": {
            "text/plain": [
              "'R² para os dados de treino: 1.0'"
            ],
            "application/vnd.google.colaboratory.intrinsic+json": {
              "type": "string"
            }
          },
          "metadata": {},
          "execution_count": 88
        }
      ]
    },
    {
      "cell_type": "markdown",
      "source": [
        "#teste"
      ],
      "metadata": {
        "id": "CDcxm8s99r-x"
      }
    },
    {
      "cell_type": "code",
      "source": [
        "f'RMSE para os dados de teste: {pred_test_data.rootMeanSquaredError}'"
      ],
      "metadata": {
        "colab": {
          "base_uri": "https://localhost:8080/",
          "height": 36
        },
        "id": "MoomRTNS9tdz",
        "outputId": "8171f095-1c19-4edd-d54b-2981915db776"
      },
      "execution_count": 89,
      "outputs": [
        {
          "output_type": "execute_result",
          "data": {
            "text/plain": [
              "'RMSE para os dados de teste: 1.5925115890896028e-08'"
            ],
            "application/vnd.google.colaboratory.intrinsic+json": {
              "type": "string"
            }
          },
          "metadata": {},
          "execution_count": 89
        }
      ]
    },
    {
      "cell_type": "code",
      "source": [
        "f'R² para os dados de teste: {pred_test_data.r2}'"
      ],
      "metadata": {
        "colab": {
          "base_uri": "https://localhost:8080/",
          "height": 36
        },
        "id": "98I0SOUZ9z0z",
        "outputId": "5e4bd32c-942b-4129-f018-613ed48c8e7b"
      },
      "execution_count": 90,
      "outputs": [
        {
          "output_type": "execute_result",
          "data": {
            "text/plain": [
              "'R² para os dados de teste: 1.0'"
            ],
            "application/vnd.google.colaboratory.intrinsic+json": {
              "type": "string"
            }
          },
          "metadata": {},
          "execution_count": 90
        }
      ]
    },
    {
      "cell_type": "markdown",
      "source": [
        "#Análise de correlação"
      ],
      "metadata": {
        "id": "U67N-7Zj956Z"
      }
    },
    {
      "cell_type": "code",
      "source": [
        "from pyspark.ml.stat import Correlation\n",
        "import pandas as pd"
      ],
      "metadata": {
        "id": "qJIMhNkQ978I"
      },
      "execution_count": 91,
      "outputs": []
    },
    {
      "cell_type": "code",
      "source": [
        "correlation = Correlation.corr(output, 'features').collect()[0][0]"
      ],
      "metadata": {
        "id": "MsKdcClp-BEg"
      },
      "execution_count": 92,
      "outputs": []
    },
    {
      "cell_type": "code",
      "source": [
        "df_correlation = pd.DataFrame(correlation.toArray(), columns= features, index= features)"
      ],
      "metadata": {
        "id": "id3WbRBA-DSI"
      },
      "execution_count": 93,
      "outputs": []
    },
    {
      "cell_type": "code",
      "source": [
        "import matplotlib.pyplot as plt\n",
        "import seaborn as sns"
      ],
      "metadata": {
        "id": "DiAlqZu9-K_d"
      },
      "execution_count": 94,
      "outputs": []
    },
    {
      "cell_type": "code",
      "source": [
        "colors = sns.color_palette(\"light:blue\", as_cmap=True)"
      ],
      "metadata": {
        "id": "gZlne0GT-QIJ"
      },
      "execution_count": 96,
      "outputs": []
    },
    {
      "cell_type": "code",
      "source": [
        "plt.figure(figsize= (16, 12))\n",
        "sns.heatmap(df_correlation.round(2), annot= True, cmap= colors)\n",
        "plt.show()"
      ],
      "metadata": {
        "colab": {
          "base_uri": "https://localhost:8080/",
          "height": 797
        },
        "id": "2D8_Ln18-WmU",
        "outputId": "351d70ed-09ca-4ea6-bf66-7543a427eb7f"
      },
      "execution_count": 97,
      "outputs": [
        {
          "output_type": "display_data",
          "data": {
            "text/plain": [
              "<Figure size 1152x864 with 2 Axes>"
            ],
            "image/png": "[encoded data removed]"
          },
          "metadata": {
            "needs_background": "light"
          }
        }
      ]
    },
    {
      "cell_type": "markdown",
      "source": [
        "#Modelo de regressão com GBTRegressor"
      ],
      "metadata": {
        "id": "fbBdOzaS-gZq"
      }
    },
    {
      "cell_type": "code",
      "source": [
        "from pyspark.ml.regression import GBTRegressor\n",
        "from pyspark.ml.evaluation import RegressionEvaluator"
      ],
      "metadata": {
        "id": "_yIlhei2-eEh"
      },
      "execution_count": 98,
      "outputs": []
    },
    {
      "cell_type": "code",
      "source": [
        "gbtr = GBTRegressor(featuresCol= 'features', labelCol= 'values')\n",
        "gbtr = gbtr.fit(train_data)"
      ],
      "metadata": {
        "id": "zE7PFcl3-nz-"
      },
      "execution_count": 99,
      "outputs": []
    },
    {
      "cell_type": "code",
      "source": [
        "mdata = gbtr.transform(test_data)\n",
        "mdata.show(5)"
      ],
      "metadata": {
        "colab": {
          "base_uri": "https://localhost:8080/"
        },
        "id": "lfMEf74v-tDJ",
        "outputId": "3ab102c5-a5aa-49dc-aeeb-6b02d5469648"
      },
      "execution_count": 100,
      "outputs": [
        {
          "output_type": "stream",
          "name": "stdout",
          "text": [
            "+--------------------+---------+-----------------+\n",
            "|            features|   values|       prediction|\n",
            "+--------------------+---------+-----------------+\n",
            "|(24,[0,1,2,3,4,5,...|4140000.0|4656703.578415878|\n",
            "|(24,[0,1,2,3,4,5,...|4090000.0|4557334.430655067|\n",
            "|(24,[0,1,2,3,4,5,...| 600000.0|  546410.69278282|\n",
            "|(24,[0,1,2,3,4,5,...| 285000.0|289396.9098186219|\n",
            "|(24,[0,1,2,3,4,5,...| 340000.0|306158.8206916629|\n",
            "+--------------------+---------+-----------------+\n",
            "only showing top 5 rows\n",
            "\n"
          ]
        }
      ]
    },
    {
      "cell_type": "code",
      "source": [
        "rmse = RegressionEvaluator(labelCol= 'values', predictionCol= 'prediction', metricName= 'rmse')\n",
        "f'O RMSE para este modelo é de: {rmse.evaluate(mdata)}'"
      ],
      "metadata": {
        "colab": {
          "base_uri": "https://localhost:8080/",
          "height": 36
        },
        "id": "dZkmV9wM-9V1",
        "outputId": "a445c633-e7c1-442f-b7cf-48cb0524125b"
      },
      "execution_count": 101,
      "outputs": [
        {
          "output_type": "execute_result",
          "data": {
            "text/plain": [
              "'O RMSE para este modelo é de: 334166.4029991979'"
            ],
            "application/vnd.google.colaboratory.intrinsic+json": {
              "type": "string"
            }
          },
          "metadata": {},
          "execution_count": 101
        }
      ]
    },
    {
      "cell_type": "code",
      "source": [
        "r2 = RegressionEvaluator(labelCol= 'values', predictionCol= 'prediction', metricName= 'r2')\n",
        "f'O RMSE para este modelo é de: {r2.evaluate(mdata)}'"
      ],
      "metadata": {
        "colab": {
          "base_uri": "https://localhost:8080/",
          "height": 36
        },
        "id": "D6BbwIsC_NBD",
        "outputId": "b7f7cdd7-e9dd-4d6f-bb32-b0c13a51cab2"
      },
      "execution_count": 102,
      "outputs": [
        {
          "output_type": "execute_result",
          "data": {
            "text/plain": [
              "'O RMSE para este modelo é de: 0.9605376680650533'"
            ],
            "application/vnd.google.colaboratory.intrinsic+json": {
              "type": "string"
            }
          },
          "metadata": {},
          "execution_count": 102
        }
      ]
    }
  ]
}